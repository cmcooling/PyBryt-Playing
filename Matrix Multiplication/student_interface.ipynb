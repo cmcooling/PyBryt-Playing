{
 "cells": [
  {
   "cell_type": "code",
   "execution_count": 1,
   "metadata": {},
   "outputs": [
    {
     "name": "stdout",
     "output_type": "stream",
     "text": [
      "REFERENCE: naive-matpow\n",
      "SATISFIED: False\n",
      "MESSAGES:\n",
      "  - Incorrect return value when p == 0\n",
      "  - Incorrect return value when p == 0\n",
      "\n",
      "REFERENCE: dac-matpow\n",
      "SATISFIED: False\n",
      "MESSAGES:\n",
      "  - Incorrect return value when p == 0\n",
      "  - Did not find the correct sequence of partial powers\n",
      "  - Incorrect return value when p == 1\n",
      "  - Incorrect return value\n",
      "  - Did not find the correct sequence of partial powers\n",
      "  - Did not find the correct sequence of partial powers\n",
      "  - Did not find the correct sequence of partial powers\n",
      "  - Did not find the correct sequence of partial powers\n"
     ]
    },
    {
     "ename": "AssertionError",
     "evalue": "",
     "output_type": "error",
     "traceback": [
      "\u001b[1;31m---------------------------------------------------------------------------\u001b[0m",
      "\u001b[1;31mAssertionError\u001b[0m                            Traceback (most recent call last)",
      "\u001b[1;32m~\\AppData\\Local\\Temp/ipykernel_30348/1794659051.py\u001b[0m in \u001b[0;36m<module>\u001b[1;34m\u001b[0m\n\u001b[0;32m     20\u001b[0m     \u001b[1;32mreturn\u001b[0m\u001b[1;33m(\u001b[0m\u001b[1;36m0\u001b[0m\u001b[1;33m)\u001b[0m\u001b[1;33m\u001b[0m\u001b[1;33m\u001b[0m\u001b[0m\n\u001b[0;32m     21\u001b[0m \u001b[1;33m\u001b[0m\u001b[0m\n\u001b[1;32m---> 22\u001b[1;33m \u001b[0mtest_matpow\u001b[0m\u001b[1;33m(\u001b[0m\u001b[0mmatpow\u001b[0m\u001b[1;33m)\u001b[0m\u001b[1;33m\u001b[0m\u001b[1;33m\u001b[0m\u001b[0m\n\u001b[0m",
      "\u001b[1;32mc:\\Users\\cmcoo\\OneDrive - Imperial College London\\Graduate School\\Courses\\Lifelong Learning\\PyBryt-Playing\\Matrix Multiplication\\scaffold.py\u001b[0m in \u001b[0;36mtest_matpow\u001b[1;34m(matpow)\u001b[0m\n\u001b[0;32m     88\u001b[0m     \u001b[1;32mfor\u001b[0m \u001b[0margs\u001b[0m \u001b[1;32min\u001b[0m \u001b[0msimple_matrix_powers\u001b[0m\u001b[1;33m:\u001b[0m\u001b[1;33m\u001b[0m\u001b[1;33m\u001b[0m\u001b[0m\n\u001b[0;32m     89\u001b[0m         \u001b[0mmat_pow\u001b[0m \u001b[1;33m=\u001b[0m \u001b[0mmatpow\u001b[0m\u001b[1;33m(\u001b[0m\u001b[1;33m*\u001b[0m\u001b[0margs\u001b[0m\u001b[1;33m)\u001b[0m\u001b[1;33m\u001b[0m\u001b[1;33m\u001b[0m\u001b[0m\n\u001b[1;32m---> 90\u001b[1;33m         \u001b[1;32massert\u001b[0m \u001b[0mhash_matrix\u001b[0m\u001b[1;33m(\u001b[0m\u001b[0mmat_pow\u001b[0m\u001b[1;33m)\u001b[0m \u001b[1;33m==\u001b[0m \u001b[0mnext\u001b[0m\u001b[1;33m(\u001b[0m\u001b[0mhashes\u001b[0m\u001b[1;33m)\u001b[0m\u001b[1;33m\u001b[0m\u001b[1;33m\u001b[0m\u001b[0m\n\u001b[0m\u001b[0;32m     91\u001b[0m \u001b[1;33m\u001b[0m\u001b[0m\n\u001b[0;32m     92\u001b[0m     \u001b[0mrng\u001b[0m \u001b[1;33m=\u001b[0m \u001b[0mrandom\u001b[0m\u001b[1;33m.\u001b[0m\u001b[0mRandom\u001b[0m\u001b[1;33m(\u001b[0m\u001b[1;36m42\u001b[0m\u001b[1;33m)\u001b[0m\u001b[1;33m\u001b[0m\u001b[1;33m\u001b[0m\u001b[0m\n",
      "\u001b[1;31mAssertionError\u001b[0m: "
     ]
    }
   ],
   "source": [
    "from scaffold import test_matpow\n",
    "\n",
    "def matpow(A, p):\n",
    "    \"\"\"\n",
    "    Raise a matrix to a non-negative power.\n",
    "\n",
    "    Parameters\n",
    "    ----------\n",
    "    A : list[list[int]]\n",
    "        the matrix\n",
    "    p : int\n",
    "        the power\n",
    "\n",
    "    Returns\n",
    "    -------\n",
    "    list[list[int]]\n",
    "        the exponentiated matrix\n",
    "    \"\"\"\n",
    "    # YOUR CODE HERE\n",
    "    return(0)\n",
    "\n",
    "test_matpow(matpow)"
   ]
  },
  {
   "cell_type": "code",
   "execution_count": 4,
   "metadata": {},
   "outputs": [
    {
     "name": "stdout",
     "output_type": "stream",
     "text": [
      "REFERENCE: naive-matpow\n",
      "SATISFIED: False\n",
      "MESSAGES:\n",
      "  - Incorrect return value when p == 0\n",
      "  - Incorrect return value when p == 0\n",
      "\n",
      "REFERENCE: dac-matpow\n",
      "SATISFIED: False\n",
      "MESSAGES:\n",
      "  - Incorrect return value when p == 0\n",
      "  - Did not find the correct sequence of partial powers\n",
      "  - Incorrect return value when p == 1\n",
      "  - Incorrect return value\n",
      "  - Did not find the correct sequence of partial powers\n",
      "  - Did not find the correct sequence of partial powers\n",
      "  - Did not find the correct sequence of partial powers\n",
      "  - Did not find the correct sequence of partial powers\n"
     ]
    }
   ],
   "source": [
    "from reference_implementations import naive_ref, dac_ref, matpow_naive, matpow_dac\n",
    "import pybryt\n",
    "\n",
    "with pybryt.check([naive_ref, dac_ref]):\n",
    "    test_matpow(matpow_naive)"
   ]
  }
 ],
 "metadata": {
  "kernelspec": {
   "display_name": "Python 3",
   "language": "python",
   "name": "python3"
  },
  "language_info": {
   "codemirror_mode": {
    "name": "ipython",
    "version": 3
   },
   "file_extension": ".py",
   "mimetype": "text/x-python",
   "name": "python",
   "nbconvert_exporter": "python",
   "pygments_lexer": "ipython3",
   "version": "3.9.13 (tags/v3.9.13:6de2ca5, May 17 2022, 16:36:42) [MSC v.1929 64 bit (AMD64)]"
  },
  "orig_nbformat": 4,
  "vscode": {
   "interpreter": {
    "hash": "5dbf766eb95023f9dddb799b5381b4ed6a9322e38632e8ac1570872c767b304b"
   }
  }
 },
 "nbformat": 4,
 "nbformat_minor": 2
}
